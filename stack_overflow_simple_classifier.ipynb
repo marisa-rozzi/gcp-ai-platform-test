{
 "cells": [
  {
   "cell_type": "code",
   "execution_count": null,
   "metadata": {},
   "outputs": [],
   "source": [
    "!gcloud services enable ml.googleapis.com\n",
    "!gcloud services enable compute.googleapis.com"
   ]
  },
  {
   "cell_type": "code",
   "execution_count": 123,
   "metadata": {},
   "outputs": [],
   "source": [
    "import tensorflow as tf \n",
    "import pandas as pd\n",
    "import numpy as np \n",
    "\n",
    "from google.cloud import bigquery\n",
    "from sklearn.model_selection import train_test_split\n",
    "from sklearn.preprocessing import MultiLabelBinarizer\n",
    "from tensorflow.keras.preprocessing import text\n",
    "\n",
    "client = bigquery.Client()"
   ]
  },
  {
   "cell_type": "code",
   "execution_count": 156,
   "metadata": {},
   "outputs": [],
   "source": [
    "# Query Stack Overflow post data from BigQuery\n",
    "sql = \"\"\"\n",
    "SELECT\n",
    "    posts.body AS body,\n",
    "    posts.tags AS tags\n",
    "FROM\n",
    "    `bigquery-public-data.stackoverflow.stackoverflow_posts` AS posts\n",
    "LIMIT 10000\n",
    "\"\"\"\n",
    "df = client.query(sql).to_dataframe()"
   ]
  },
  {
   "cell_type": "markdown",
   "metadata": {},
   "source": [
    "# Data Pre-processing"
   ]
  },
  {
   "cell_type": "code",
   "execution_count": 157,
   "metadata": {},
   "outputs": [],
   "source": [
    "# Clean up dataframe\n",
    "df.dropna(inplace=True)\n",
    "df['body'].replace(regex=True, inplace=True, to_replace=r'\\<[^\\>]+\\>', value=r'')\n",
    "df['tags'] = df['tags'].str.split('|', expand=False)"
   ]
  },
  {
   "cell_type": "code",
   "execution_count": 158,
   "metadata": {},
   "outputs": [
    {
     "data": {
      "text/html": [
       "<div>\n",
       "<style scoped>\n",
       "    .dataframe tbody tr th:only-of-type {\n",
       "        vertical-align: middle;\n",
       "    }\n",
       "\n",
       "    .dataframe tbody tr th {\n",
       "        vertical-align: top;\n",
       "    }\n",
       "\n",
       "    .dataframe thead th {\n",
       "        text-align: right;\n",
       "    }\n",
       "</style>\n",
       "<table border=\"1\" class=\"dataframe\">\n",
       "  <thead>\n",
       "    <tr style=\"text-align: right;\">\n",
       "      <th></th>\n",
       "      <th>body</th>\n",
       "      <th>tags</th>\n",
       "    </tr>\n",
       "  </thead>\n",
       "  <tbody>\n",
       "    <tr>\n",
       "      <td>0</td>\n",
       "      <td>When you are somewhere between version 1 and v...</td>\n",
       "      <td>[maintenance, patch, servicepacks, hotfix]</td>\n",
       "    </tr>\n",
       "    <tr>\n",
       "      <td>1</td>\n",
       "      <td>I'm creating an ASP.NET MVC site and I need to...</td>\n",
       "      <td>[asp.net-mvc, login, asp.net-membership, membe...</td>\n",
       "    </tr>\n",
       "    <tr>\n",
       "      <td>2</td>\n",
       "      <td>We get   The communication object System.Servi...</td>\n",
       "      <td>[c#, wcf]</td>\n",
       "    </tr>\n",
       "    <tr>\n",
       "      <td>3</td>\n",
       "      <td>i have the basic webserver hello world app for...</td>\n",
       "      <td>[porting, node.js, forward-compatibility]</td>\n",
       "    </tr>\n",
       "    <tr>\n",
       "      <td>4</td>\n",
       "      <td>I have an AdjacencyGraph&amp;lt;string Edge&amp;lt;str...</td>\n",
       "      <td>[c#, algorithm, shortest-path, quickgraph]</td>\n",
       "    </tr>\n",
       "  </tbody>\n",
       "</table>\n",
       "</div>"
      ],
      "text/plain": [
       "                                                body  \\\n",
       "0  When you are somewhere between version 1 and v...   \n",
       "1  I'm creating an ASP.NET MVC site and I need to...   \n",
       "2  We get   The communication object System.Servi...   \n",
       "3  i have the basic webserver hello world app for...   \n",
       "4  I have an AdjacencyGraph&lt;string Edge&lt;str...   \n",
       "\n",
       "                                                tags  \n",
       "0         [maintenance, patch, servicepacks, hotfix]  \n",
       "1  [asp.net-mvc, login, asp.net-membership, membe...  \n",
       "2                                          [c#, wcf]  \n",
       "3          [porting, node.js, forward-compatibility]  \n",
       "4         [c#, algorithm, shortest-path, quickgraph]  "
      ]
     },
     "execution_count": 158,
     "metadata": {},
     "output_type": "execute_result"
    }
   ],
   "source": [
    "df.head()"
   ]
  },
  {
   "cell_type": "code",
   "execution_count": 159,
   "metadata": {},
   "outputs": [
    {
     "data": {
      "text/plain": [
       "['javascript', 'c#', 'java', 'php']"
      ]
     },
     "execution_count": 159,
     "metadata": {},
     "output_type": "execute_result"
    }
   ],
   "source": [
    "# Find the k most common tags\n",
    "k = 5\n",
    "all_tags = sum(df.tags, [])\n",
    "\n",
    "from collections import Counter\n",
    "c = Counter(all_tags)\n",
    "top_tags = [key for key, val in c.most_common(k) if key != '']\n",
    "num_tags = len(top_tags)\n",
    "top_tags"
   ]
  },
  {
   "cell_type": "code",
   "execution_count": 160,
   "metadata": {},
   "outputs": [],
   "source": [
    "# Remove all except top <num_tags> tags\n",
    "df['tags'] = df['tags'].apply(lambda row: [val for val in row if val in top_tags])\n",
    "df = df[df['tags'].map(lambda row: len(row) > 0)]"
   ]
  },
  {
   "cell_type": "code",
   "execution_count": 161,
   "metadata": {},
   "outputs": [
    {
     "data": {
      "text/html": [
       "<div>\n",
       "<style scoped>\n",
       "    .dataframe tbody tr th:only-of-type {\n",
       "        vertical-align: middle;\n",
       "    }\n",
       "\n",
       "    .dataframe tbody tr th {\n",
       "        vertical-align: top;\n",
       "    }\n",
       "\n",
       "    .dataframe thead th {\n",
       "        text-align: right;\n",
       "    }\n",
       "</style>\n",
       "<table border=\"1\" class=\"dataframe\">\n",
       "  <thead>\n",
       "    <tr style=\"text-align: right;\">\n",
       "      <th></th>\n",
       "      <th>body</th>\n",
       "      <th>tags</th>\n",
       "    </tr>\n",
       "  </thead>\n",
       "  <tbody>\n",
       "    <tr>\n",
       "      <td>2</td>\n",
       "      <td>We get   The communication object System.Servi...</td>\n",
       "      <td>[c#]</td>\n",
       "    </tr>\n",
       "    <tr>\n",
       "      <td>4</td>\n",
       "      <td>I have an AdjacencyGraph&amp;lt;string Edge&amp;lt;str...</td>\n",
       "      <td>[c#]</td>\n",
       "    </tr>\n",
       "    <tr>\n",
       "      <td>6</td>\n",
       "      <td>I have a DataGrid in my Silverlight applicatio...</td>\n",
       "      <td>[c#]</td>\n",
       "    </tr>\n",
       "    <tr>\n",
       "      <td>7</td>\n",
       "      <td>I'm implementing a secure WCF service. Authent...</td>\n",
       "      <td>[c#]</td>\n",
       "    </tr>\n",
       "    <tr>\n",
       "      <td>15</td>\n",
       "      <td>If I have a list like this: &amp;lt;ul id= mylist ...</td>\n",
       "      <td>[javascript]</td>\n",
       "    </tr>\n",
       "  </tbody>\n",
       "</table>\n",
       "</div>"
      ],
      "text/plain": [
       "                                                 body          tags\n",
       "2   We get   The communication object System.Servi...          [c#]\n",
       "4   I have an AdjacencyGraph&lt;string Edge&lt;str...          [c#]\n",
       "6   I have a DataGrid in my Silverlight applicatio...          [c#]\n",
       "7   I'm implementing a secure WCF service. Authent...          [c#]\n",
       "15  If I have a list like this: &lt;ul id= mylist ...  [javascript]"
      ]
     },
     "execution_count": 161,
     "metadata": {},
     "output_type": "execute_result"
    }
   ],
   "source": [
    "df.head()"
   ]
  },
  {
   "cell_type": "code",
   "execution_count": 162,
   "metadata": {},
   "outputs": [],
   "source": [
    "# Create one-hot encoding from tags column\n",
    "mlb = MultiLabelBinarizer()\n",
    "df = df.join(pd.DataFrame(mlb.fit_transform(df.pop('tags')), \n",
    "                          columns=mlb.classes_, \n",
    "                          index=df.index))"
   ]
  },
  {
   "cell_type": "code",
   "execution_count": 163,
   "metadata": {},
   "outputs": [
    {
     "data": {
      "text/html": [
       "<div>\n",
       "<style scoped>\n",
       "    .dataframe tbody tr th:only-of-type {\n",
       "        vertical-align: middle;\n",
       "    }\n",
       "\n",
       "    .dataframe tbody tr th {\n",
       "        vertical-align: top;\n",
       "    }\n",
       "\n",
       "    .dataframe thead th {\n",
       "        text-align: right;\n",
       "    }\n",
       "</style>\n",
       "<table border=\"1\" class=\"dataframe\">\n",
       "  <thead>\n",
       "    <tr style=\"text-align: right;\">\n",
       "      <th></th>\n",
       "      <th>body</th>\n",
       "      <th>c#</th>\n",
       "      <th>java</th>\n",
       "      <th>javascript</th>\n",
       "      <th>php</th>\n",
       "    </tr>\n",
       "  </thead>\n",
       "  <tbody>\n",
       "    <tr>\n",
       "      <td>2</td>\n",
       "      <td>We get   The communication object System.Servi...</td>\n",
       "      <td>1</td>\n",
       "      <td>0</td>\n",
       "      <td>0</td>\n",
       "      <td>0</td>\n",
       "    </tr>\n",
       "    <tr>\n",
       "      <td>4</td>\n",
       "      <td>I have an AdjacencyGraph&amp;lt;string Edge&amp;lt;str...</td>\n",
       "      <td>1</td>\n",
       "      <td>0</td>\n",
       "      <td>0</td>\n",
       "      <td>0</td>\n",
       "    </tr>\n",
       "    <tr>\n",
       "      <td>6</td>\n",
       "      <td>I have a DataGrid in my Silverlight applicatio...</td>\n",
       "      <td>1</td>\n",
       "      <td>0</td>\n",
       "      <td>0</td>\n",
       "      <td>0</td>\n",
       "    </tr>\n",
       "    <tr>\n",
       "      <td>7</td>\n",
       "      <td>I'm implementing a secure WCF service. Authent...</td>\n",
       "      <td>1</td>\n",
       "      <td>0</td>\n",
       "      <td>0</td>\n",
       "      <td>0</td>\n",
       "    </tr>\n",
       "    <tr>\n",
       "      <td>15</td>\n",
       "      <td>If I have a list like this: &amp;lt;ul id= mylist ...</td>\n",
       "      <td>0</td>\n",
       "      <td>0</td>\n",
       "      <td>1</td>\n",
       "      <td>0</td>\n",
       "    </tr>\n",
       "  </tbody>\n",
       "</table>\n",
       "</div>"
      ],
      "text/plain": [
       "                                                 body  c#  java  javascript  \\\n",
       "2   We get   The communication object System.Servi...   1     0           0   \n",
       "4   I have an AdjacencyGraph&lt;string Edge&lt;str...   1     0           0   \n",
       "6   I have a DataGrid in my Silverlight applicatio...   1     0           0   \n",
       "7   I'm implementing a secure WCF service. Authent...   1     0           0   \n",
       "15  If I have a list like this: &lt;ul id= mylist ...   0     0           1   \n",
       "\n",
       "    php  \n",
       "2     0  \n",
       "4     0  \n",
       "6     0  \n",
       "7     0  \n",
       "15    0  "
      ]
     },
     "execution_count": 163,
     "metadata": {},
     "output_type": "execute_result"
    }
   ],
   "source": [
    "df.head()"
   ]
  },
  {
   "cell_type": "code",
   "execution_count": 164,
   "metadata": {},
   "outputs": [],
   "source": [
    "# Split data into train/test\n",
    "df_train, df_test = train_test_split(df, test_size=0.2)"
   ]
  },
  {
   "cell_type": "code",
   "execution_count": 165,
   "metadata": {},
   "outputs": [],
   "source": [
    "# Tokenize body text\n",
    "VOCAB_SIZE = 800\n",
    "\n",
    "tokenizer = text.Tokenizer(num_words=VOCAB_SIZE)\n",
    "tokenizer.fit_on_texts(df_train['body'])\n",
    "\n",
    "body_train = tokenizer.texts_to_matrix(df_train['body'])\n",
    "body_test = tokenizer.texts_to_matrix(df_test['body'])"
   ]
  },
  {
   "cell_type": "markdown",
   "metadata": {},
   "source": [
    "# The Model"
   ]
  },
  {
   "cell_type": "code",
   "execution_count": 166,
   "metadata": {},
   "outputs": [],
   "source": [
    "def create_model(vocab_size, num_tags):\n",
    "  model = tf.keras.models.Sequential()\n",
    "  model.add(tf.keras.layers.Dense(50, input_shape=(vocab_size,), activation='relu'))\n",
    "  model.add(tf.keras.layers.Dense(25, activation='relu'))\n",
    "  model.add(tf.keras.layers.Dense(num_tags, activation='sigmoid'))\n",
    "\n",
    "  model.compile(loss='binary_crossentropy', optimizer='adam', metrics=['accuracy'])\n",
    "  return model"
   ]
  },
  {
   "cell_type": "code",
   "execution_count": 167,
   "metadata": {},
   "outputs": [
    {
     "name": "stdout",
     "output_type": "stream",
     "text": [
      "Model: \"sequential_7\"\n",
      "_________________________________________________________________\n",
      "Layer (type)                 Output Shape              Param #   \n",
      "=================================================================\n",
      "dense_19 (Dense)             (None, 50)                40050     \n",
      "_________________________________________________________________\n",
      "dense_20 (Dense)             (None, 25)                1275      \n",
      "_________________________________________________________________\n",
      "dense_21 (Dense)             (None, 4)                 104       \n",
      "=================================================================\n",
      "Total params: 41,429\n",
      "Trainable params: 41,429\n",
      "Non-trainable params: 0\n",
      "_________________________________________________________________\n",
      "Train on 1605 samples, validate on 179 samples\n",
      "Epoch 1/10\n"
     ]
    },
    {
     "name": "stderr",
     "output_type": "stream",
     "text": [
      "/usr/local/lib/python3.5/dist-packages/ipykernel_launcher.py:5: FutureWarning: Method .as_matrix will be removed in a future version. Use .values instead.\n",
      "  \"\"\"\n"
     ]
    },
    {
     "name": "stdout",
     "output_type": "stream",
     "text": [
      "1605/1605 [==============================] - 1s 738us/sample - loss: 0.6126 - accuracy: 0.7157 - val_loss: 0.5808 - val_accuracy: 0.7402\n",
      "Epoch 2/10\n",
      "1605/1605 [==============================] - 0s 147us/sample - loss: 0.5628 - accuracy: 0.7433 - val_loss: 0.5477 - val_accuracy: 0.7402\n",
      "Epoch 3/10\n",
      "1605/1605 [==============================] - 0s 179us/sample - loss: 0.5210 - accuracy: 0.7492 - val_loss: 0.5045 - val_accuracy: 0.7472\n",
      "Epoch 4/10\n",
      "1605/1605 [==============================] - 0s 150us/sample - loss: 0.4661 - accuracy: 0.7713 - val_loss: 0.4564 - val_accuracy: 0.7807\n",
      "Epoch 5/10\n",
      "1605/1605 [==============================] - 0s 121us/sample - loss: 0.3987 - accuracy: 0.8201 - val_loss: 0.4048 - val_accuracy: 0.8254\n",
      "Epoch 6/10\n",
      "1605/1605 [==============================] - 0s 173us/sample - loss: 0.3338 - accuracy: 0.8671 - val_loss: 0.3633 - val_accuracy: 0.8478\n",
      "Epoch 7/10\n",
      "1605/1605 [==============================] - 0s 159us/sample - loss: 0.2784 - accuracy: 0.8978 - val_loss: 0.3338 - val_accuracy: 0.8659\n",
      "Epoch 8/10\n",
      "1605/1605 [==============================] - 0s 100us/sample - loss: 0.2352 - accuracy: 0.9221 - val_loss: 0.3146 - val_accuracy: 0.8799\n",
      "Epoch 9/10\n",
      "1605/1605 [==============================] - 0s 100us/sample - loss: 0.2025 - accuracy: 0.9349 - val_loss: 0.3042 - val_accuracy: 0.8869\n",
      "Epoch 10/10\n",
      "1605/1605 [==============================] - 0s 96us/sample - loss: 0.1756 - accuracy: 0.9455 - val_loss: 0.2912 - val_accuracy: 0.8953\n"
     ]
    },
    {
     "data": {
      "text/plain": [
       "<tensorflow.python.keras.callbacks.History at 0x7f4478364320>"
      ]
     },
     "execution_count": 167,
     "metadata": {},
     "output_type": "execute_result"
    }
   ],
   "source": [
    "model = create_model(VOCAB_SIZE, num_tags)\n",
    "model.summary()\n",
    "\n",
    "# Train and evaluate the model\n",
    "model.fit(body_train, df_train[top_tags].as_matrix(), epochs=10, batch_size=128, validation_split=0.1)"
   ]
  },
  {
   "cell_type": "code",
   "execution_count": 168,
   "metadata": {},
   "outputs": [
    {
     "name": "stdout",
     "output_type": "stream",
     "text": [
      "Test Score:  0.2742780904064264\n",
      "Test Accuracy:  0.8985426\n"
     ]
    },
    {
     "name": "stderr",
     "output_type": "stream",
     "text": [
      "/usr/local/lib/python3.5/dist-packages/ipykernel_launcher.py:1: FutureWarning: Method .as_matrix will be removed in a future version. Use .values instead.\n",
      "  \"\"\"Entry point for launching an IPython kernel.\n"
     ]
    }
   ],
   "source": [
    "results = model.evaluate(body_test, df_test[top_tags].as_matrix(), verbose=0)\n",
    "\n",
    "print(\"Test Score: \", results[0])\n",
    "print(\"Test Accuracy: \", results[1])"
   ]
  },
  {
   "cell_type": "code",
   "execution_count": null,
   "metadata": {},
   "outputs": [],
   "source": []
  }
 ],
 "metadata": {
  "kernelspec": {
   "display_name": "Python 3",
   "language": "python",
   "name": "python3"
  },
  "language_info": {
   "codemirror_mode": {
    "name": "ipython",
    "version": 3
   },
   "file_extension": ".py",
   "mimetype": "text/x-python",
   "name": "python",
   "nbconvert_exporter": "python",
   "pygments_lexer": "ipython3",
   "version": "3.5.3"
  }
 },
 "nbformat": 4,
 "nbformat_minor": 4
}
